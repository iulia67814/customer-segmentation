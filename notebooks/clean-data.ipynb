{
 "cells": [
  {
   "cell_type": "markdown",
   "id": "87bf170e",
   "metadata": {},
   "source": [
    "### While exploring the data in the previous notebook ( see extract-explore-data.ipynb) the following was identified:\n",
    "\n",
    "- 5270 rows of duplicated data - remove duplicated rows and keep just one instance\n",
    "- missing customer id\n",
    "- invoice_date field has a wrong data type\n",
    "- 22 stock codes without customer_id do not have a descriptions # may need further investigation\n",
    "- 10k invoices with a negative quantity - may be considered to remove this rows\n",
    "- invoices with negative price and missing customer id\n",
    "- 47 examples of the description having a ?, which will be replace with Unknown"
   ]
  },
  {
   "cell_type": "code",
   "execution_count": 1,
   "id": "1ce31fd2",
   "metadata": {},
   "outputs": [],
   "source": [
    "# import libraries\n",
    "\n",
    "import pandas as pd\n",
    "import psycopg2\n",
    "\n",
    "import boto3\n",
    "from io import StringIO\n",
    "\n",
    "import warnings\n",
    "warnings.filterwarnings(\"ignore\")"
   ]
  },
  {
   "cell_type": "code",
   "execution_count": 2,
   "id": "16523a33",
   "metadata": {},
   "outputs": [],
   "source": [
    "# Connect to Redshift\n",
    "\n",
    "dbname = \n",
    "host = \n",
    "port = \n",
    "user = \n",
    "password = \n",
    "\n",
    "connect = psycopg2.connect(dbname=dbname, host=host, port=port, user=user, password=password)\n",
    "cursor = connect.cursor()"
   ]
  },
  {
   "cell_type": "code",
   "execution_count": 3,
   "id": "14427402",
   "metadata": {},
   "outputs": [],
   "source": [
    "# Write a query that does the following: \n",
    "# - Select everything from online_transaction table and description from stock description table. \n",
    "# - Filters on where customer_id is not equal to ‘’ \n",
    "# - Filters on where stock_code not in BANK CHARGES, POSTAGE, D, M, CRUK \n",
    "# - Filters invoices that have a negative quantity \n",
    "# - If the description is ? or is null replaces it with Unknown\n",
    "\n",
    "query = '''select o.*,\n",
    "                  case when s.description = '?' or s.description is null then 'Unknown' else s.description end as description\n",
    "            from bootcamp1.online_transactions o\n",
    "            left join bootcamp1.stock_description s \n",
    "            on o.stock_code = s.stock_code\n",
    "            where o.customer_id <> ''\n",
    "            and o.quantity > 0\n",
    "            and o.stock_code not in ('BANK CHARGES', 'POSTAGE', 'D', 'M', 'CRUK')\n",
    "           '''"
   ]
  },
  {
   "cell_type": "code",
   "execution_count": 4,
   "id": "34829638",
   "metadata": {},
   "outputs": [],
   "source": [
    "# Save the query as dataframe\n",
    "online_trans_clean = pd.read_sql(query, connect)"
   ]
  },
  {
   "cell_type": "code",
   "execution_count": 5,
   "id": "70545c79",
   "metadata": {},
   "outputs": [
    {
     "data": {
      "text/html": [
       "<div>\n",
       "<style scoped>\n",
       "    .dataframe tbody tr th:only-of-type {\n",
       "        vertical-align: middle;\n",
       "    }\n",
       "\n",
       "    .dataframe tbody tr th {\n",
       "        vertical-align: top;\n",
       "    }\n",
       "\n",
       "    .dataframe thead th {\n",
       "        text-align: right;\n",
       "    }\n",
       "</style>\n",
       "<table border=\"1\" class=\"dataframe\">\n",
       "  <thead>\n",
       "    <tr style=\"text-align: right;\">\n",
       "      <th></th>\n",
       "      <th>invoice</th>\n",
       "      <th>stock_code</th>\n",
       "      <th>quantity</th>\n",
       "      <th>invoice_date</th>\n",
       "      <th>price</th>\n",
       "      <th>customer_id</th>\n",
       "      <th>country</th>\n",
       "      <th>description</th>\n",
       "    </tr>\n",
       "  </thead>\n",
       "  <tbody>\n",
       "    <tr>\n",
       "      <th>0</th>\n",
       "      <td>536365</td>\n",
       "      <td>84029G</td>\n",
       "      <td>6</td>\n",
       "      <td>2010-12-01 08:26:00</td>\n",
       "      <td>3.39</td>\n",
       "      <td>u1785</td>\n",
       "      <td>United Kingdom</td>\n",
       "      <td>KNITTED UNION FLAG HOT WATER BOTTLE</td>\n",
       "    </tr>\n",
       "    <tr>\n",
       "      <th>1</th>\n",
       "      <td>536366</td>\n",
       "      <td>22633</td>\n",
       "      <td>6</td>\n",
       "      <td>2010-12-01 08:28:00</td>\n",
       "      <td>1.85</td>\n",
       "      <td>u1785</td>\n",
       "      <td>United Kingdom</td>\n",
       "      <td>HAND WARMER UNION JACK</td>\n",
       "    </tr>\n",
       "    <tr>\n",
       "      <th>2</th>\n",
       "      <td>536368</td>\n",
       "      <td>22912</td>\n",
       "      <td>3</td>\n",
       "      <td>2010-12-01 08:34:00</td>\n",
       "      <td>4.95</td>\n",
       "      <td>u13047</td>\n",
       "      <td>United Kingdom</td>\n",
       "      <td>YELLOW COAT RACK PARIS FASHION</td>\n",
       "    </tr>\n",
       "    <tr>\n",
       "      <th>3</th>\n",
       "      <td>536367</td>\n",
       "      <td>22748</td>\n",
       "      <td>6</td>\n",
       "      <td>2010-12-01 08:34:00</td>\n",
       "      <td>2.10</td>\n",
       "      <td>u13047</td>\n",
       "      <td>United Kingdom</td>\n",
       "      <td>POPPY'S PLAYHOUSE KITCHEN</td>\n",
       "    </tr>\n",
       "    <tr>\n",
       "      <th>4</th>\n",
       "      <td>536367</td>\n",
       "      <td>22623</td>\n",
       "      <td>3</td>\n",
       "      <td>2010-12-01 08:34:00</td>\n",
       "      <td>4.95</td>\n",
       "      <td>u13047</td>\n",
       "      <td>United Kingdom</td>\n",
       "      <td>BOX OF VINTAGE JIGSAW BLOCKS</td>\n",
       "    </tr>\n",
       "    <tr>\n",
       "      <th>...</th>\n",
       "      <td>...</td>\n",
       "      <td>...</td>\n",
       "      <td>...</td>\n",
       "      <td>...</td>\n",
       "      <td>...</td>\n",
       "      <td>...</td>\n",
       "      <td>...</td>\n",
       "      <td>...</td>\n",
       "    </tr>\n",
       "    <tr>\n",
       "      <th>405130</th>\n",
       "      <td>581586</td>\n",
       "      <td>21217</td>\n",
       "      <td>24</td>\n",
       "      <td>2011-12-09 12:49:00</td>\n",
       "      <td>8.95</td>\n",
       "      <td>u13113</td>\n",
       "      <td>United Kingdom</td>\n",
       "      <td>RED RETROSPOT ROUND CAKE TINS</td>\n",
       "    </tr>\n",
       "    <tr>\n",
       "      <th>405131</th>\n",
       "      <td>581587</td>\n",
       "      <td>22555</td>\n",
       "      <td>12</td>\n",
       "      <td>2011-12-09 12:50:00</td>\n",
       "      <td>1.65</td>\n",
       "      <td>u1268</td>\n",
       "      <td>France</td>\n",
       "      <td>PLASTERS IN TIN STRONGMAN</td>\n",
       "    </tr>\n",
       "    <tr>\n",
       "      <th>405132</th>\n",
       "      <td>581587</td>\n",
       "      <td>22730</td>\n",
       "      <td>4</td>\n",
       "      <td>2011-12-09 12:50:00</td>\n",
       "      <td>3.75</td>\n",
       "      <td>u1268</td>\n",
       "      <td>France</td>\n",
       "      <td>ALARM CLOCK BAKELIKE IVORY</td>\n",
       "    </tr>\n",
       "    <tr>\n",
       "      <th>405133</th>\n",
       "      <td>581587</td>\n",
       "      <td>22613</td>\n",
       "      <td>12</td>\n",
       "      <td>2011-12-09 12:50:00</td>\n",
       "      <td>0.85</td>\n",
       "      <td>u1268</td>\n",
       "      <td>France</td>\n",
       "      <td>PACK OF 20 SPACEBOY NAPKINS</td>\n",
       "    </tr>\n",
       "    <tr>\n",
       "      <th>405134</th>\n",
       "      <td>581587</td>\n",
       "      <td>22138</td>\n",
       "      <td>3</td>\n",
       "      <td>2011-12-09 12:50:00</td>\n",
       "      <td>4.95</td>\n",
       "      <td>u1268</td>\n",
       "      <td>France</td>\n",
       "      <td>BAKING SET 9 PIECE RETROSPOT</td>\n",
       "    </tr>\n",
       "  </tbody>\n",
       "</table>\n",
       "<p>405135 rows × 8 columns</p>\n",
       "</div>"
      ],
      "text/plain": [
       "       invoice stock_code  quantity         invoice_date  price customer_id  \\\n",
       "0       536365     84029G         6  2010-12-01 08:26:00   3.39       u1785   \n",
       "1       536366      22633         6  2010-12-01 08:28:00   1.85       u1785   \n",
       "2       536368      22912         3  2010-12-01 08:34:00   4.95      u13047   \n",
       "3       536367      22748         6  2010-12-01 08:34:00   2.10      u13047   \n",
       "4       536367      22623         3  2010-12-01 08:34:00   4.95      u13047   \n",
       "...        ...        ...       ...                  ...    ...         ...   \n",
       "405130  581586      21217        24  2011-12-09 12:49:00   8.95      u13113   \n",
       "405131  581587      22555        12  2011-12-09 12:50:00   1.65       u1268   \n",
       "405132  581587      22730         4  2011-12-09 12:50:00   3.75       u1268   \n",
       "405133  581587      22613        12  2011-12-09 12:50:00   0.85       u1268   \n",
       "405134  581587      22138         3  2011-12-09 12:50:00   4.95       u1268   \n",
       "\n",
       "               country                          description  \n",
       "0       United Kingdom  KNITTED UNION FLAG HOT WATER BOTTLE  \n",
       "1       United Kingdom               HAND WARMER UNION JACK  \n",
       "2       United Kingdom       YELLOW COAT RACK PARIS FASHION  \n",
       "3       United Kingdom            POPPY'S PLAYHOUSE KITCHEN  \n",
       "4       United Kingdom        BOX OF VINTAGE JIGSAW BLOCKS   \n",
       "...                ...                                  ...  \n",
       "405130  United Kingdom        RED RETROSPOT ROUND CAKE TINS  \n",
       "405131          France            PLASTERS IN TIN STRONGMAN  \n",
       "405132          France           ALARM CLOCK BAKELIKE IVORY  \n",
       "405133          France          PACK OF 20 SPACEBOY NAPKINS  \n",
       "405134          France        BAKING SET 9 PIECE RETROSPOT   \n",
       "\n",
       "[405135 rows x 8 columns]"
      ]
     },
     "execution_count": 5,
     "metadata": {},
     "output_type": "execute_result"
    }
   ],
   "source": [
    "# Check the dataframe\n",
    "online_trans_clean"
   ]
  },
  {
   "cell_type": "code",
   "execution_count": 7,
   "id": "738c9465",
   "metadata": {},
   "outputs": [
    {
     "data": {
      "text/plain": [
       "5268"
      ]
     },
     "execution_count": 7,
     "metadata": {},
     "output_type": "execute_result"
    }
   ],
   "source": [
    "# Check for duplicates\n",
    "\n",
    "online_trans_clean.duplicated().sum()"
   ]
  },
  {
   "cell_type": "code",
   "execution_count": 8,
   "id": "a28ae577",
   "metadata": {},
   "outputs": [],
   "source": [
    "# Variant #1\n",
    "# Drop duplicated rows and keep the first appearence of a duplicated rows\n",
    "\n",
    "online_trans_clean = online_trans_clean.drop_duplicates(keep = 'first')"
   ]
  },
  {
   "cell_type": "code",
   "execution_count": 9,
   "id": "1e3da784",
   "metadata": {},
   "outputs": [
    {
     "data": {
      "text/plain": [
       "0"
      ]
     },
     "execution_count": 9,
     "metadata": {},
     "output_type": "execute_result"
    }
   ],
   "source": [
    "# Check for duplicates #2\n",
    "\n",
    "online_trans_clean.duplicated().sum()"
   ]
  },
  {
   "cell_type": "code",
   "execution_count": 17,
   "id": "9bcfa053",
   "metadata": {},
   "outputs": [],
   "source": [
    "# Variant # 2\n",
    "# A definition can be also used to drop the duplicated data\n",
    "\n",
    "def removing_duplicate_data(df):\n",
    "    if df.duplicated().sum() > 0: \n",
    "        print('Number of duplicates found is ', df.duplicated().sum())\n",
    "        df_clean = df.drop_duplicates(keep = 'first')\n",
    "        return df_clean\n",
    "    else :\n",
    "        print('No duplicates found')"
   ]
  },
  {
   "cell_type": "code",
   "execution_count": 18,
   "id": "ceefc120",
   "metadata": {},
   "outputs": [
    {
     "name": "stdout",
     "output_type": "stream",
     "text": [
      "No duplicates found\n"
     ]
    }
   ],
   "source": [
    "online_trans_clean = removing_duplicate_data(online_trans_clean)"
   ]
  },
  {
   "cell_type": "code",
   "execution_count": 10,
   "id": "1e18575d",
   "metadata": {},
   "outputs": [
    {
     "name": "stdout",
     "output_type": "stream",
     "text": [
      "<class 'pandas.core.frame.DataFrame'>\n",
      "Int64Index: 399867 entries, 0 to 405134\n",
      "Data columns (total 8 columns):\n",
      " #   Column        Non-Null Count   Dtype  \n",
      "---  ------        --------------   -----  \n",
      " 0   invoice       399867 non-null  object \n",
      " 1   stock_code    399867 non-null  object \n",
      " 2   quantity      399867 non-null  int64  \n",
      " 3   invoice_date  399867 non-null  object \n",
      " 4   price         399867 non-null  float64\n",
      " 5   customer_id   399867 non-null  object \n",
      " 6   country       399867 non-null  object \n",
      " 7   description   399867 non-null  object \n",
      "dtypes: float64(1), int64(1), object(6)\n",
      "memory usage: 27.5+ MB\n"
     ]
    }
   ],
   "source": [
    "# Check the data types\n",
    "\n",
    "online_trans_clean.info()"
   ]
  },
  {
   "cell_type": "code",
   "execution_count": 11,
   "id": "4d68baa7",
   "metadata": {},
   "outputs": [],
   "source": [
    "# Fix the invoice_date type to date format\n",
    "\n",
    "online_trans_clean.invoice_date = pd.to_datetime(online_trans_clean.invoice_date, format = '%Y-%m-%d')"
   ]
  },
  {
   "cell_type": "code",
   "execution_count": 12,
   "id": "fef2a9b9",
   "metadata": {},
   "outputs": [
    {
     "name": "stdout",
     "output_type": "stream",
     "text": [
      "<class 'pandas.core.frame.DataFrame'>\n",
      "Int64Index: 399867 entries, 0 to 405134\n",
      "Data columns (total 8 columns):\n",
      " #   Column        Non-Null Count   Dtype         \n",
      "---  ------        --------------   -----         \n",
      " 0   invoice       399867 non-null  object        \n",
      " 1   stock_code    399867 non-null  object        \n",
      " 2   quantity      399867 non-null  int64         \n",
      " 3   invoice_date  399867 non-null  datetime64[ns]\n",
      " 4   price         399867 non-null  float64       \n",
      " 5   customer_id   399867 non-null  object        \n",
      " 6   country       399867 non-null  object        \n",
      " 7   description   399867 non-null  object        \n",
      "dtypes: datetime64[ns](1), float64(1), int64(1), object(5)\n",
      "memory usage: 27.5+ MB\n"
     ]
    }
   ],
   "source": [
    "# Check the data types #2\n",
    "\n",
    "online_trans_clean.info()"
   ]
  },
  {
   "cell_type": "code",
   "execution_count": 14,
   "id": "0521abb7",
   "metadata": {},
   "outputs": [
    {
     "data": {
      "text/plain": [
       "count      399867\n",
       "unique       3628\n",
       "top       Unknown\n",
       "freq         8585\n",
       "Name: description, dtype: object"
      ]
     },
     "execution_count": 14,
     "metadata": {},
     "output_type": "execute_result"
    }
   ],
   "source": [
    "online_trans_clean.description.describe()"
   ]
  },
  {
   "cell_type": "code",
   "execution_count": 16,
   "id": "76956f7a",
   "metadata": {},
   "outputs": [
    {
     "name": "stdout",
     "output_type": "stream",
     "text": [
      "<class 'pandas.core.series.Series'>\n",
      "Int64Index: 399867 entries, 0 to 405134\n",
      "Series name: stock_code\n",
      "Non-Null Count   Dtype \n",
      "--------------   ----- \n",
      "399867 non-null  object\n",
      "dtypes: object(1)\n",
      "memory usage: 6.1+ MB\n"
     ]
    }
   ],
   "source": [
    "online_trans_clean.stock_code.info()"
   ]
  },
  {
   "cell_type": "code",
   "execution_count": null,
   "id": "e462491b",
   "metadata": {},
   "outputs": [],
   "source": []
  }
 ],
 "metadata": {
  "kernelspec": {
   "display_name": "Python 3 (ipykernel)",
   "language": "python",
   "name": "python3"
  },
  "language_info": {
   "codemirror_mode": {
    "name": "ipython",
    "version": 3
   },
   "file_extension": ".py",
   "mimetype": "text/x-python",
   "name": "python",
   "nbconvert_exporter": "python",
   "pygments_lexer": "ipython3",
   "version": "3.11.1"
  }
 },
 "nbformat": 4,
 "nbformat_minor": 5
}
